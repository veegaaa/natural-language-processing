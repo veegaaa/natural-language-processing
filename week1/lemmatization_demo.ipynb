{
  "nbformat": 4,
  "nbformat_minor": 0,
  "metadata": {
    "colab": {
      "name": "lemmatization_demo.ipynb",
      "version": "0.3.2",
      "provenance": []
    },
    "kernelspec": {
      "name": "python3",
      "display_name": "Python 3"
    }
  },
  "cells": [
    {
      "metadata": {
        "id": "5vlp-u9LR2S5",
        "colab_type": "text"
      },
      "cell_type": "markdown",
      "source": [
        "*Apply add-one smoothing to the trigram language model trained on the sentence:*\n",
        "\n",
        "**This is the rat that ate the malt that lay in the house that Jack built.**\n",
        "\n",
        "Find the perplexity of this smoothed model on the test sentence:\n",
        "\n",
        "**This is the house that Jack built.**"
      ]
    },
    {
      "metadata": {
        "id": "YN4nSR1jSifl",
        "colab_type": "code",
        "colab": {}
      },
      "cell_type": "code",
      "source": [
        "s = \"This is the rat that ate the malt that lay in the house that Jack built\"\n"
      ],
      "execution_count": 0,
      "outputs": []
    },
    {
      "metadata": {
        "id": "9qU3MPI_TAzR",
        "colab_type": "code",
        "colab": {
          "base_uri": "https://localhost:8080/",
          "height": 35
        },
        "outputId": "6a485310-80de-47ed-8a16-37516a9e0100"
      },
      "cell_type": "code",
      "source": [
        "p = (1+1)/(1 + V)\n",
        "likelihood = (p**7)*(1/(1+V))\n",
        "1 / (likelihood**(1/7))"
      ],
      "execution_count": 8,
      "outputs": [
        {
          "output_type": "execute_result",
          "data": {
            "text/plain": [
              "10.205413747033985"
            ]
          },
          "metadata": {
            "tags": []
          },
          "execution_count": 8
        }
      ]
    },
    {
      "metadata": {
        "id": "9QK9dMUCS3SL",
        "colab_type": "code",
        "colab": {}
      },
      "cell_type": "code",
      "source": [
        "{'Jack',\n",
        " 'This',\n",
        " 'ate',\n",
        " 'built',\n",
        " 'house',\n",
        " 'in',\n",
        " 'is',\n",
        " 'lay',\n",
        " 'malt',\n",
        " 'rat',\n",
        " 'that',\n",
        " 'the'}"
      ],
      "execution_count": 0,
      "outputs": []
    },
    {
      "metadata": {
        "id": "Xlo5QoV5SXHp",
        "colab_type": "code",
        "colab": {
          "base_uri": "https://localhost:8080/",
          "height": 35
        },
        "outputId": "fa441f77-5335-436d-d078-8e7052e16986"
      },
      "cell_type": "code",
      "source": [
        "V = len(set(s.split())) + 1\n",
        "V"
      ],
      "execution_count": 3,
      "outputs": [
        {
          "output_type": "execute_result",
          "data": {
            "text/plain": [
              "13"
            ]
          },
          "metadata": {
            "tags": []
          },
          "execution_count": 3
        }
      ]
    },
    {
      "metadata": {
        "id": "SA47fByoS0dI",
        "colab_type": "code",
        "colab": {
          "base_uri": "https://localhost:8080/",
          "height": 233
        },
        "outputId": "a1947222-2285-4e33-9404-94d6e215cccc"
      },
      "cell_type": "code",
      "source": [
        "set(s.split())"
      ],
      "execution_count": 6,
      "outputs": [
        {
          "output_type": "execute_result",
          "data": {
            "text/plain": [
              "{'Jack',\n",
              " 'This',\n",
              " 'ate',\n",
              " 'built',\n",
              " 'house',\n",
              " 'in',\n",
              " 'is',\n",
              " 'lay',\n",
              " 'malt',\n",
              " 'rat',\n",
              " 'that',\n",
              " 'the'}"
            ]
          },
          "metadata": {
            "tags": []
          },
          "execution_count": 6
        }
      ]
    },
    {
      "metadata": {
        "id": "lxJ7_SPeS1N_",
        "colab_type": "code",
        "colab": {}
      },
      "cell_type": "code",
      "source": [
        ""
      ],
      "execution_count": 0,
      "outputs": []
    },
    {
      "metadata": {
        "id": "naWyMwHIG66E",
        "colab_type": "text"
      },
      "cell_type": "markdown",
      "source": [
        "# Tokenization "
      ]
    },
    {
      "metadata": {
        "id": "aIDWjVwvP9t5",
        "colab_type": "code",
        "colab": {}
      },
      "cell_type": "code",
      "source": [
        "1/7 "
      ],
      "execution_count": 0,
      "outputs": []
    },
    {
      "metadata": {
        "ExecuteTime": {
          "end_time": "2017-11-05T18:16:27.608310Z",
          "start_time": "2017-11-05T18:16:26.423528Z"
        },
        "id": "CcvkS69mG66G",
        "colab_type": "code",
        "colab": {}
      },
      "cell_type": "code",
      "source": [
        "import nltk\n",
        "text = \"This is Andrew's text, isn't it?\""
      ],
      "execution_count": 0,
      "outputs": []
    },
    {
      "metadata": {
        "ExecuteTime": {
          "end_time": "2017-11-05T18:16:27.633134Z",
          "start_time": "2017-11-05T18:16:27.610910Z"
        },
        "id": "-4PECr34G66J",
        "colab_type": "code",
        "outputId": "c5a7d0f8-d09a-4dd2-b371-6cd5be8d2eb6",
        "colab": {}
      },
      "cell_type": "code",
      "source": [
        "tokenizer = nltk.tokenize.WhitespaceTokenizer()\n",
        "tokenizer.tokenize(text)"
      ],
      "execution_count": 0,
      "outputs": [
        {
          "output_type": "execute_result",
          "data": {
            "text/plain": [
              "['This', 'is', \"Andrew's\", 'text,', \"isn't\", 'it?']"
            ]
          },
          "metadata": {
            "tags": []
          },
          "execution_count": 2
        }
      ]
    },
    {
      "metadata": {
        "ExecuteTime": {
          "end_time": "2017-11-05T18:16:27.647746Z",
          "start_time": "2017-11-05T18:16:27.637909Z"
        },
        "id": "zEDcd4xmG66N",
        "colab_type": "code",
        "outputId": "e56020ac-0a10-47fc-d36a-2c2891fbf8d4",
        "colab": {}
      },
      "cell_type": "code",
      "source": [
        "tokenizer = nltk.tokenize.TreebankWordTokenizer()\n",
        "tokenizer.tokenize(text)"
      ],
      "execution_count": 0,
      "outputs": [
        {
          "output_type": "execute_result",
          "data": {
            "text/plain": [
              "['This', 'is', 'Andrew', \"'s\", 'text', ',', 'is', \"n't\", 'it', '?']"
            ]
          },
          "metadata": {
            "tags": []
          },
          "execution_count": 3
        }
      ]
    },
    {
      "metadata": {
        "id": "1M3nPgCrG8A1",
        "colab_type": "code",
        "outputId": "a72479f4-2185-41df-c6f3-18268570aa95",
        "colab": {
          "base_uri": "https://localhost:8080/",
          "height": 35
        }
      },
      "cell_type": "code",
      "source": [
        "123"
      ],
      "execution_count": 0,
      "outputs": [
        {
          "output_type": "execute_result",
          "data": {
            "text/plain": [
              "123"
            ]
          },
          "metadata": {
            "tags": []
          },
          "execution_count": 1
        }
      ]
    },
    {
      "metadata": {
        "ExecuteTime": {
          "end_time": "2017-11-05T18:16:27.660827Z",
          "start_time": "2017-11-05T18:16:27.651961Z"
        },
        "id": "o2p8rbIoG66Q",
        "colab_type": "code",
        "outputId": "cf5250e8-e8b5-4a16-9abc-a984c4685fc3",
        "colab": {}
      },
      "cell_type": "code",
      "source": [
        "tokenizer = nltk.tokenize.WordPunctTokenizer()\n",
        "tokenizer.tokenize(text)"
      ],
      "execution_count": 0,
      "outputs": [
        {
          "output_type": "execute_result",
          "data": {
            "text/plain": [
              "['This', 'is', 'Andrew', \"'\", 's', 'text', ',', 'isn', \"'\", 't', 'it', '?']"
            ]
          },
          "metadata": {
            "tags": []
          },
          "execution_count": 4
        }
      ]
    },
    {
      "metadata": {
        "id": "slDg6ApaG66U",
        "colab_type": "text"
      },
      "cell_type": "markdown",
      "source": [
        "# Stemming (further in the video)"
      ]
    },
    {
      "metadata": {
        "ExecuteTime": {
          "end_time": "2017-11-05T18:16:27.674332Z",
          "start_time": "2017-11-05T18:16:27.666509Z"
        },
        "id": "h6FJjWKvG66W",
        "colab_type": "code",
        "colab": {}
      },
      "cell_type": "code",
      "source": [
        "import nltk\n",
        "text = \"feet wolves cats talked\"\n",
        "tokenizer = nltk.tokenize.TreebankWordTokenizer()\n",
        "tokens = tokenizer.tokenize(text)"
      ],
      "execution_count": 0,
      "outputs": []
    },
    {
      "metadata": {
        "ExecuteTime": {
          "end_time": "2017-11-05T18:16:27.693761Z",
          "start_time": "2017-11-05T18:16:27.677877Z"
        },
        "id": "WbaQe3vuG66Y",
        "colab_type": "code",
        "outputId": "b3d5e998-b9d0-4feb-8592-16293a35cd00",
        "colab": {}
      },
      "cell_type": "code",
      "source": [
        "stemmer = nltk.stem.PorterStemmer()\n",
        "\" \".join(stemmer.stem(token) for token in tokens)"
      ],
      "execution_count": 0,
      "outputs": [
        {
          "output_type": "execute_result",
          "data": {
            "text/plain": [
              "u'feet wolv cat talk'"
            ]
          },
          "metadata": {
            "tags": []
          },
          "execution_count": 6
        }
      ]
    },
    {
      "metadata": {
        "ExecuteTime": {
          "end_time": "2017-11-05T18:16:30.840117Z",
          "start_time": "2017-11-05T18:16:27.698683Z"
        },
        "id": "WRcQLADYG66c",
        "colab_type": "code",
        "outputId": "a4719a40-1f72-41d9-9b56-da53cbe9474a",
        "colab": {}
      },
      "cell_type": "code",
      "source": [
        "stemmer = nltk.stem.WordNetLemmatizer()\n",
        "\" \".join(stemmer.lemmatize(token) for token in tokens)"
      ],
      "execution_count": 0,
      "outputs": [
        {
          "output_type": "execute_result",
          "data": {
            "text/plain": [
              "u'foot wolf cat talked'"
            ]
          },
          "metadata": {
            "tags": []
          },
          "execution_count": 7
        }
      ]
    }
  ]
}